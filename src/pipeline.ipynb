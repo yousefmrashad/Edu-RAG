{
 "cells": [
  {
   "cell_type": "markdown",
   "metadata": {},
   "source": [
    "# **End-to-End RAG-Based System for Educational Content Generation**\n",
    "\n",
    "This notebook provides a complete, runnable example of a Retrieval-Augmented Generation (RAG) system. It demonstrates how to leverage a local vector database (Weaviate), a modern embedding model, and a powerful LLM (Google Gemini) to build a system that can generate structured educational content with proper citations.\n",
    "\n",
    "The core components of this system are:\n",
    "- **Document Processing:** Loading, chunking, and embedding documents.\n",
    "- **Vector Store:** Storing the document chunks and their embeddings in a vector database.\n",
    "- **Retrieval:** Retrieving the most relevant chunks based on a user's query.\n",
    "- **Generation:** Using an LLM to generate a comprehensive article based on the retrieved context.\n",
    "\n",
    "For this example, the system is configured to generate an educational article about phishing using a set of public PDF guides."
   ]
  },
  {
   "cell_type": "markdown",
   "metadata": {},
   "source": [
    "### **1. Setup and Initialization**\n",
    "\n",
    "This first cell imports all the necessary classes and functions from the project. It also sets up a warning filter to keep the output clean."
   ]
  },
  {
   "cell_type": "code",
   "execution_count": 1,
   "metadata": {},
   "outputs": [],
   "source": [
    "from preprocessing.embedding import Embedding\n",
    "from preprocessing.document import DocumentProcessor\n",
    "from utils.db_config import DB\n",
    "from utils.config import *\n",
    "from warnings import filterwarnings\n",
    "\n",
    "filterwarnings(\"ignore\")"
   ]
  },
  {
   "cell_type": "markdown",
   "metadata": {},
   "source": [
    "### **2. Connect to the Database and Load the Embedding Model**\n",
    "\n",
    "Here, we establish a connection to the local Weaviate database. If the required collection doesn't exist, the `DB().connect()` method will create it automatically. We then load the `Embedding` model, which will be used to convert text into vector representations."
   ]
  },
  {
   "cell_type": "code",
   "execution_count": 2,
   "metadata": {},
   "outputs": [],
   "source": [
    "client = DB().connect()\n",
    "embed = Embedding()"
   ]
  },
  {
   "cell_type": "markdown",
   "metadata": {},
   "source": [
    "### **3. Define Document Sources**\n",
    "\n",
    "This cell defines the list of documents that will be processed and used as the knowledge base for the RAG system. The documents are a collection of publicly available PDF guides on phishing."
   ]
  },
  {
   "cell_type": "code",
   "execution_count": 3,
   "metadata": {},
   "outputs": [],
   "source": [
    "phishing_resources = [\n",
    "  {\n",
    "    \"title\": \"Phishing Guidance: Stopping the Attack Cycle at Phase One\",\n",
    "    \"url\": \"https://www.cisa.gov/sites/default/files/2023-10/Phishing%20Guidance%20-%20Stopping%20the%20Attack%20Cycle%20at%20Phase%20One_508c.pdf\"\n",
    "  },\n",
    "  {\n",
    "    \"title\": \"Phishing from Université Côte d'Azur\",\n",
    "    \"url\": \"https://www.i3s.unice.fr/~bmartin/Phishing.pdf\"\n",
    "  },\n",
    "  {\n",
    "    \"title\": \"Lesson 1: Phishing Analysis for Beginners\",\n",
    "    \"url\": \"https://internews.org/wp-content/uploads/2021/03/Lesson1.pdf\"\n",
    "  },\n",
    "  {\n",
    "    \"title\": \"Phishing Guide 2023 by IT.ie\",\n",
    "    \"url\": \"https://it.ie/wp-content/uploads/2023/09/IT.ie-Phishing-Guide-2023.pdf\"\n",
    "  }\n",
    "]"
   ]
  },
  {
   "cell_type": "markdown",
   "metadata": {},
   "source": [
    "### **4. Process and Store Documents**\n",
    "\n",
    "This loop iterates through the list of resources. For each document, it initializes a `DocumentProcessor` and runs the `process_document` method. This method automatically handles the entire pipeline of loading, splitting, and embedding the document, then stores the processed chunks in the Weaviate database. It also includes a check to skip documents that have already been processed to save time."
   ]
  },
  {
   "cell_type": "code",
   "execution_count": 4,
   "metadata": {},
   "outputs": [
    {
     "name": "stdout",
     "output_type": "stream",
     "text": [
      "Document https://www.cisa.gov/sites/default/files/2023-10/Phishing%20Guidance%20-%20Stopping%20the%20Attack%20Cycle%20at%20Phase%20One_508c.pdf already exists in the database. Skipping processing.\n",
      "Document https://www.i3s.unice.fr/~bmartin/Phishing.pdf already exists in the database. Skipping processing.\n",
      "Document https://internews.org/wp-content/uploads/2021/03/Lesson1.pdf already exists in the database. Skipping processing.\n",
      "Document https://it.ie/wp-content/uploads/2023/09/IT.ie-Phishing-Guide-2023.pdf already exists in the database. Skipping processing.\n"
     ]
    }
   ],
   "source": [
    "for item in phishing_resources:\n",
    "    doc = DocumentProcessor(item['url'], item['title'])\n",
    "    doc.process_document(embed, client)"
   ]
  },
  {
   "cell_type": "markdown",
   "metadata": {},
   "source": [
    "### **5. Create the RAG Chain**\n",
    "\n",
    "This is where we assemble the RAG components. \n",
    "\n",
    "- We initialize the `Retriever` and configure its search parameters, such as the number of chunks to fetch (`k`) and the blend between keyword and vector search (`alpha`). \n",
    "- We then load the `GoogleGenerativeAI` model to serve as our LLM.\n",
    "- Finally, we define two `PromptTemplate`s: one for structuring the retrieved document context (`DOCUMENT_PROMPT`) and another for guiding the LLM to generate the final response (`RETRIEVAL_PROMPT`). The final `rag_chain` combines these components into a single, executable pipeline."
   ]
  },
  {
   "cell_type": "code",
   "execution_count": null,
   "metadata": {},
   "outputs": [],
   "source": [
    "from retriever.weaviate_retriever import Retriever\n",
    "from langchain_google_genai import GoogleGenerativeAI\n",
    "from langchain_openai import OpenAI \n",
    "from langchain.chains.retrieval import create_retrieval_chain \n",
    "from langchain.chains.combine_documents import create_stuff_documents_chain\n",
    "from langchain.prompts import PromptTemplate\n",
    "\n",
    "retriever = Retriever(client, embed).as_retriever(search_kwargs={'source_ids': None, \n",
    "                                                                 'auto_merge': False, 'k': 30, 'top_k': 15,\n",
    "                                                                 'alpha': 0.25})\n",
    "\n",
    "llm = GoogleGenerativeAI(model=LLM_MODEL_NAME, google_api_key= GOOGLE_API_KEY, temperature= 0)\n",
    "#llm = OpenAI(base_url='http://172.22.176.1:6969/v1', model='qwen3-8b', api_key='None', temperature=0)\n",
    "\n",
    "BASE_PROMPT =\"\"\"You are an expert {domain} instructor. \n",
    "Your task is to write a detailed, 800-word lesson on the topic of ```{input}``` for a {domain} trainee. \n",
    "Use the following source materials to ensure accuracy and factual correctness:\n",
    "\n",
    "```{context}```\n",
    "\n",
    "Your lesson must be structured with the following sections: an introduction that defines the core concepts, \n",
    "a detailed explanation of the key technical principles, a \"real-world application\" section, and a summary. \n",
    "Maintain a professional and technical tone throughout. At the end of the lesson, include a \"References\" section. \n",
    "For each piece of information, cite the source using a numerical reference corresponding to the snippet it cites. \n",
    "\n",
    "The references should be in the following format:\n",
    "[1] Source Title - Page Number \n",
    "[2] Source Title - Page Number, etc.\n",
    "\n",
    "Ensure that the lesson is comprehensive and covers all aspects of the topic.\n",
    "Do not include information not found in the source material.\n",
    "Cite only the sources provided in the context.\"\"\"\n",
    "\n",
    "DOCUMENT_PROMPT = PromptTemplate(\n",
    "    input_variables=[\"page_content\", \"page_no\", \"source_id\"],\n",
    "    template=\"***Source ID***: {source_id}\\n***Page Number***: {page_no}\\n\\nContent: {page_content}\"\n",
    ")\n",
    "prompt = PromptTemplate(template=BASE_PROMPT, input_variables=[\"input\", \"domain\", \"context\"])\n",
    "document_chain = create_stuff_documents_chain(llm, prompt, document_prompt=DOCUMENT_PROMPT, document_separator=DOCUMENT_SEPERATOR)\n",
    "rag_chain = create_retrieval_chain(retriever, document_chain)\n",
    "\n",
    "query = \"What is phishing and how can it be prevented in cybersecurity?\""
   ]
  },
  {
   "cell_type": "markdown",
   "metadata": {},
   "source": [
    "### **6. Execute the RAG Chain and Stream the Output**\n",
    "\n",
    "This final cell defines the user's query and executes the `rag_chain`. Instead of waiting for the full response, it uses `astream` to stream the output as it is generated, providing a faster and more responsive experience. The output is printed to the console and also saved to a markdown file named `phishing_lesson.md`."
   ]
  },
  {
   "cell_type": "code",
   "execution_count": 6,
   "metadata": {},
   "outputs": [
    {
     "name": "stdout",
     "output_type": "stream",
     "text": [
      "Hello Trainee,\n",
      "\n",
      "Welcome to today's lesson. As your cybersecurity instructor, my goal is to provide you with a foundational understanding of one of the most pervasive threats in the digital landscape. Today, we will conduct a deep dive into the topic of phishing: what it is, how it works, and the critical strategies for its prevention.\n",
      "\n",
      "### **Introduction: Defining the Threat**\n",
      "\n",
      "At its core, phishing is a type of social engineering attack [1]. Social engineering is the practice of tricking someone into revealing information or taking an action they otherwise would not [2]. Phishing specifically leverages this deception, typically via email, to lure victims into visiting a malicious website or providing sensitive data [2]. The primary goal for malicious actors is to steal user data, most commonly login credentials and credit card numbers [1].\n",
      "\n",
      "These attackers pose as trustworthy sources—such as colleagues, familiar organizations, or other acquaintances—to exploit the victim's trust [7]. The objective is to send a message that appears to be something the victim needs or wants, inducing them to click a malicious link or download a compromised attachment [1]. The stolen credentials can then be used to gain initial access to enterprise networks, while malicious attachments can be used to deploy malware for follow-on activities like damaging systems or escalating privileges [2, 7].\n",
      "\n",
      "### **Key Technical Principles: Anatomy and Prevention**\n",
      "\n",
      "To effectively prevent phishing, you must first understand the different forms it takes and the technical defenses available.\n",
      "\n",
      "**Types of Phishing Attacks**\n",
      "\n",
      "While the core principle of deception remains the same, phishing attacks can vary in their level of sophistication and targeting.\n",
      "\n",
      "*   **Generic Phishing:** These are broad, scattergun attacks sent to as many recipients as possible [3]. A classic example is the \"advance-fee scam,\" where an email from a supposedly wealthy individual in a perilous situation requests a small amount of money with the promise of a large reward later [3].\n",
      "*   **Spear Phishing:** This is a highly targeted attack aimed at a specific individual or organization [3, 11]. Attackers conduct prior research on their victims to make the scam more credible, such as by impersonating known vendors or business associates [3]. Because these emails appear to come from a trusted source and lack impersonal messaging, they are extremely effective [11]. A notable example involved attackers targeting PayPal users with highly personalized emails that looked legitimate, increasing their power and success rate [11].\n",
      "*   **Clone Phishing:** In this attack, a malicious actor creates a near-identical replica of a legitimate email that the victim has previously received [8]. The email is sent from an address that closely resembles the original sender's, but the legitimate link or attachment is replaced with a malicious one. The attacker may frame the email as a resend or an updated version of the original to lower suspicion [8].\n",
      "\n",
      "**Technical Prevention Measures**\n",
      "\n",
      "While no single tool is foolproof, a layered technical defense is the first step in mitigating phishing risks [6].\n",
      "\n",
      "*   **Anti-Phishing Software:** This category of software is designed to prevent phishing emails from ever reaching a user's inbox [9]. Key tools include spam filters, which block emails from suspicious sources or with suspicious content, and advanced AI-powered email scanners [6, 9]. Organizations can also enable security banners that explicitly warn users when an email originates from outside the company [6].\n",
      "*   **Email Authentication Protocols:** To combat email spoofing, organizations must implement a trio of critical standards:\n",
      "    *   **Sender Policy Framework (SPF), Domain Keys Identified Mail (DKIM), and Domain-based Message Authentication, Reporting, and Conformance (DMARC)** work together to verify that an incoming email was sent from an authorized server [14].\n",
      "    *   If an email fails these checks, the mail system identifies it as spoofed and can quarantine it [14].\n",
      "    *   Crucially, an organization's DMARC policy for its *own* sent emails should be set to 'reject' [14]. This provides robust protection by ensuring that emails impersonating your domain are rejected by the recipient's mail server before they can be delivered [14].\n",
      "\n",
      "### **Real-World Application: The Human Element**\n",
      "\n",
      "Technical measures are essential, but they cannot stop every phishing attempt [6]. The second, and equally important, step is addressing the human factor [6]. Anti-phishing software alone is not enough to stop employees from falling for a well-crafted scam [5].\n",
      "\n",
      "**Training and Awareness**\n",
      "\n",
      "Training users is essential to securing a business against phishing [5]. A comprehensive training program should:\n",
      "1.  **Educate on Threats:** Ensure employees understand the threat phishing poses and can identify its common signs, such as look-alike domains, a sense of urgency, and unusual requests for information or payments [5, 6].\n",
      "2.  **Promote Caution:** Train users to be cautious when receiving unexpected attachments or links, even if they appear to be from a known source [5].\n",
      "3.  **Establish Reporting Procedures:** Users must know how to report suspicious emails and understand the importance of reporting any instance where they may have accidentally interacted with a malicious link or attachment [14].\n",
      "\n",
      "**Phishing Simulations**\n",
      "\n",
      "Training is most effective when paired with practical application. Phishing simulators allow you to send realistic, but harmless, phishing emails to your end-users to gauge their response [5]. These simulations serve two purposes: they help you assess the overall risk level posed to your business and provide a powerful, retention-focused learning experience for users to practice their skills [5]. This gamified approach can be part of a comprehensive \"Human Risk Management\" service, which aims to turn your weakest links into your best defense [4].\n",
      "\n",
      "### **Summary**\n",
      "\n",
      "Phishing is a dangerous and widespread form of social engineering designed to steal credentials and deploy malware [1, 2]. Attacks range from generic scams to highly targeted spear phishing campaigns [3, 11]. An effective defense strategy must be two-pronged. First, implement robust technical measures, including spam filters and email authentication protocols like DMARC, to block as many threats as possible [6, 14]. Second, address the human factor, as no technical solution is perfect [6]. This requires continuous user training on how to identify and report suspicious emails, reinforced with realistic phishing simulations to build a resilient and security-conscious workforce [5, 14].\n",
      "\n",
      "---\n",
      "### **References**\n",
      "\n",
      "[1] Phishing from Université Côte d'Azur - Page 3\n",
      "[2] Phishing Guidance: Stopping the Attack Cycle at Phase One - Page 3\n",
      "[3] Phishing Guide 2023 by IT.ie - Page 4\n",
      "[4] Phishing Guide 2023 by IT.ie - Page 13\n",
      "[5] Phishing Guide 2023 by IT.ie - Page 13\n",
      "[6] Phishing Guide 2023 by IT.ie - Page 12\n",
      "[7] Phishing Guidance: Stopping the Attack Cycle at Phase One - Page 4\n",
      "[8] Phishing from Université Côte d'Azur - Page 19\n",
      "[9] Phishing Guide 2023 by IT.ie - Page 13\n",
      "[10] Phishing Guide 2023 by IT.ie - Page 6\n",
      "[11] Phishing from Université Côte d'Azur - Page 12, 13\n",
      "[12] Phishing Guidance: Stopping the Attack Cycle at Phase One - Page 6"
     ]
    }
   ],
   "source": [
    "async def generate_and_stream():\n",
    "    rag_context = []\n",
    "    with open(\"phishing_lesson.md\", \"w\") as md_file:\n",
    "        async for chunk in rag_chain.astream({\"input\": query, \n",
    "                                              \"domain\": \"cybersecurity\"}):\n",
    "            if \"answer\" in chunk:\n",
    "                md_file.write(chunk[\"answer\"])\n",
    "                print(chunk[\"answer\"], end=\"\", flush=True)\n",
    "            if \"context\" in chunk:\n",
    "                rag_context.extend(chunk[\"context\"])\n",
    "    return rag_context\n",
    "\n",
    "rag_context = await generate_and_stream()"
   ]
  },
  {
   "cell_type": "code",
   "execution_count": 7,
   "metadata": {},
   "outputs": [
    {
     "data": {
      "text/plain": [
       "[Document(metadata={'source_id': \"Phishing from Université Côte d'Azur\", 'page_no': '{3}'}, page_content='WHAT IS PHISHING\\n- Phishing is a social engineering attack used to steal user data.\\n- The common stolen data are login credentials and credit card numbers.\\n- The goal is to send an email that seems something that the victim needs or wants and induce him/her to click a link or download an attachment.'),\n",
       " Document(metadata={'source_id': 'Phishing Guidance: Stopping the Attack Cycle at Phase One', 'page_no': '{3}'}, page_content='OVERVIEW\\nSocial engineering is the attempt to trick someone into revealing information (e.g., a password) or taking an action that can be used to compromise systems or networks. Phishing is a form of social engineering where malicious actors lure victims (typically via email) to visit a malicious site or deceive them into providing login credentials. Malicious actors primarily leverage phishing for:\\n- Obtaining login credentials. Malicious actors conduct phishing campaigns to steal login credentials for initial network access.\\n- Malware deployment. Malicious actors commonly conduct phishing campaigns to deploy malware for follow-on activity, such as interrupting or damaging systems, escalating user privileges, and maintaining persistence on compromised systems.\\nThe Cybersecurity and Infrastructure Security Agency (CISA), National Security Agency (NSA), Federal Bureau of Investigation (FBI), and Multi-State Information Sharing and Analysis Center (MS-ISAC) are releasing this joint guide to outline phishing techniques malicious actors commonly use and to provide guidance for both network defenders and software manufacturers. This will help to reduce the impact of phishing attacks in obtaining credentials and deploying malware.'),\n",
       " Document(metadata={'source_id': 'Phishing Guide 2023 by IT.ie', 'page_no': '{4}'}, page_content=\"All you need to know about the most dangerous cyber attack\\nPhishing is the use of deceptive emails to obtain sensitive information. Some of these are generic scams sent out by cyber criminals to as many recipients as they can reach. For example, the advance-fee scam involves an email from a supposedly wealthy person in a perilous situation, o/f_shortten in a volatile country. They ask the recipient to kindly forward some money to help them out of trouble, with the promise that it will be returned manyfold once the sender has 'regained access to their funds'\\nOther phishing emails are more specific to the recipient. This is called spear phishing.  In  a  spear  phishing  attack,  the  cyber  criminal  will  do  research into the recipient to find information that will make the scam more likely to  succeed,  such  as  names  of  vendors  and  business  associates  who  the scammer could attempt to impersonate.\"),\n",
       " Document(metadata={'source_id': 'Phishing Guide 2023 by IT.ie', 'page_no': '{13}'}, page_content='How to stop employees falling for phishing\\nThis is easily achieved with our effective Human Risk Management service. This service is a comprehensive solution that allows you to turn your weakest links into your best defence against cyber attacks. It is a gamified method of building a robust security posture with short engaging training modues and realistc phishing simulations, delivered at a frequency to suit you and your team.'),\n",
       " Document(metadata={'source_id': 'Phishing Guide 2023 by IT.ie', 'page_no': '{13}'}, page_content=\"How to stop employees falling for phishing\\nWhile anti-phishing so/f_shorttware is necessary for any business, it is not enough to stop employees from falling for phishing emails. No so/f_shorttware can stop every scam from finding their way to user inboxes.\\nTraining  users  on  email  security  as  well  as  identifying  and  correctly  dealing with phishing emails is essential to secure your business against phishing and related cyber threats. It's important that users are aware of common signs of phishing, such as look-alike domains and unusual requests, and that they take caution when receiving unexpected attachments or payment requests.\\nTesting user response to phishing emails helps you understand the risk posed by phishing to your business. A phishing simulator lets you send realistic phishing emails to your end users and gauge their response. In addition to letting you assess the risk level, phishing simulations are also a great way for your users to learn and put their skills to practise, and o/f_shortten provide a better and a more retention-focused way to learn than a training course would be able to provide by itself.\"),\n",
       " Document(metadata={'source_id': 'Phishing Guide 2023 by IT.ie', 'page_no': '{12}'}, page_content=\"Take the essential steps to stay safe\\nWhile there's almost no chance of stopping phishing emails from hitting your company's in-boxes, you can significantly reduce the chances of a successful breach by taking the proper precautions.\\nThe first step in reducing the risk posed by phishing emails is taking the proper technical measures. This means instituting a spam filter to block emails that come from suspicious sources or contain suspicious content, and enabling security messages for users such as banners that warn users when an email comes from outside the company.\\nHowever, no technical measure can stop all phishing emails. The second step to stopping the threat of phishing is too o/f_shortten overlooked, but is just as important. This involves addressing the human factor: training employees to understand the threat posed by phishing, identify the signs of phishing, and to take the proper precautions when they send or receive information over email.\"),\n",
       " Document(metadata={'source_id': 'Phishing Guidance: Stopping the Attack Cycle at Phase One', 'page_no': '{4}'}, page_content='DEFINITION\\nIn phishing attacks used to obtain login credentials, Malicious actors pose as trustworthy sources (e.g., colleagues, acquaintances, or organizations) to lure victims into providing their login credentials. Malicious actors can use the compromised credentials (e.g., usernames and passwords) to gain access to enterprise networks or protected resources, such as email accounts.'),\n",
       " Document(metadata={'source_id': \"Phishing from Université Côte d'Azur\", 'page_no': '{19}'}, page_content='CLONE PHISHING\\nThe attacker creates an almost identical replica of a message previously received by the victims to make them think it is real.\\nThe e-mail is sent from an address similar to the legitimate sender. The only difference is that the attachment or link in the message is exchanged for something malicious.\\nIt may claim to be a re-send of the original or an updated version to the original.'),\n",
       " Document(metadata={'source_id': 'Phishing Guide 2023 by IT.ie', 'page_no': '{13}'}, page_content=\"What is anti-phishing software?\\nAnti-phishing so/f_shorttware is so/f_shorttware that is designed to stop phishing emails from landing in users' inboxes. This includes tools such as spam filters and AI-powered email scanners.\"),\n",
       " Document(metadata={'source_id': 'Phishing Guide 2023 by IT.ie', 'page_no': '{6}'}, page_content='Successful scams happen in three steps\\nThere is more to each phishing scam than just an email. To  understand  how  phishing  attacks  work  and  how they can be counteracted, it is important to know how they are constructed before they are sent out to their targets.\\nFrom  when  a  cyber  criminal  first  plans  an  attack  to when a user exposes their credentials there are three distinct stages in which the phishing attack takes place.'),\n",
       " Document(metadata={'source_id': \"Phishing from Université Côte d'Azur\", 'page_no': '{12, 13}'}, page_content='SPEAR PHISHING\\nSpear phishing emails are sent to a select target, which could be an individual or organization.\\nSpear phishing attacks are extremely effective because the attackers spend a lot of time studying the victims and the email sent appear to come from a trusted source.\\nIt is the most common phishing on social media websites.\\nSPEAR ATTACK, EXAMPLE\\nPayPal has millions of users so it is a hot target for hackers.\\nThere were been a few instances of spear phishing attacks.\\nInstead of using blanket emails, hackers were using targeted email with no impersonal messages.\\nThis strategy is more powerful since the emails look legitimate.\\nhttps://www.phishprotection.com/content/phishing-prevention/spear-phishing-examples/'),\n",
       " Document(metadata={'source_id': 'Phishing Guidance: Stopping the Attack Cycle at Phase One', 'page_no': '{3}'}, page_content='OVERVIEW\\nThe guidance for network defenders is applicable to all organizations but may not be feasible for organizations with limited resources. Therefore, this guide includes a section of tailored recommendations for small- and medium-sized businesses that may not have the resources to hire IT staff dedicated to a constant defense against phishing threats.\\nThe guidance for software manufacturers focuses on secure-bydesign and -default tactics and techniques. Manufacturers should develop and supply software that is secure against the most prevalent phishing threats, thereby increasing the cybersecurity posture of their customers.'),\n",
       " Document(metadata={'source_id': 'Phishing Guide 2023 by IT.ie', 'page_no': '{6}'}, page_content=\"Attack (Catch)\\nThe third stage is where the phishing email is actually sent out, and the cyber criminal awaits the victim's response. Spam filters and the users' knowledge of and ability to identify suspicious emails will be tested here.\"),\n",
       " Document(metadata={'source_id': 'Phishing Guidance: Stopping the Attack Cycle at Phase One', 'page_no': '{6}'}, page_content=\"PROTECTING LOGIN CREDENTIALS\\n- Implement user training on social engineering and phishing attacks [CPG 2.I]. Regularly educate users on identifying suspicious emails and links, not interacting with those suspicious items, and the importance of reporting instances of opening suspicious emails, links, attachments, or other potential lures.\\n- Enable Domain-based Message Authentication, Reporting, and Conformance (DMARC) for received emails.\\n- o DMARC, along with Sender Policy Framework (SPF) and Domain Keys Identified Mail (DKIM), verify the sending server of received emails by checking published rules. If an email fails the check, it is deemed a spoofed email address, and the mail system will quarantine and report it as malicious.\\n- o Multiple recipients can be defined for the receipt of DMARC reports.\\n- o These tools reject any incoming email that has a domain that is being spoofed when a DMARC policy of reject is enabled.\\n- Ensure DMARC is set to 'reject' for sent emails [CPG 2.M]. This provides robust protection against other users receiving emails that impersonate a domain.\\n- o Spoofed emails are rejected at the mail server prior to delivery.\"),\n",
       " Document(metadata={'source_id': 'Phishing Guide 2023 by IT.ie', 'page_no': '{2}'}, page_content='TABLE OF CONTENTS\\n- Introduction 01.\\n- What is phishing? 02.\\n- What makes a phishing attack successful? 03.\\n- The stages of a phishing attack 04.\\n- Website spoofing 06.\\n- What are the different types of phishing? 07.\\n- Phishing in numbers 08.\\n- How to protect your business from phishing 09.\\n- What does a phishing email look like? 05.')]"
      ]
     },
     "execution_count": 7,
     "metadata": {},
     "output_type": "execute_result"
    }
   ],
   "source": [
    "rag_context"
   ]
  },
  {
   "cell_type": "markdown",
   "metadata": {},
   "source": [
    "### **7. Use Hypothetical Document Embedding (Hyde) for better document retrieval**\n",
    "This section uses the HyDE (Hypothetical Document Embedding) approach to generate a hypothetical document based on the user's query. The generated document is then used to retrieve relevant context from the vector database, which is passed to the base chain for final output generation."
   ]
  },
  {
   "cell_type": "code",
   "execution_count": null,
   "metadata": {},
   "outputs": [],
   "source": [
    "from langchain_core.prompts.base import format_document\n",
    "\n",
    "HYDE_PROMPT = \"\"\"You are an expert {domain} instructor. \n",
    "Please write a concise, clear paragraph that answers the following question in technical detail: {query}\"\"\"\n",
    "\n",
    "hyde_prompt = PromptTemplate(\n",
    "    input_variables=[\"query\", \"domain\"],\n",
    "    template=HYDE_PROMPT\n",
    ")\n",
    "\n",
    "hyde_chain = hyde_prompt | GoogleGenerativeAI(model=\"gemini-2.5-flash\", google_api_key= GOOGLE_API_KEY, temperature= 0)\n",
    "\n",
    "hypothetical_document = hyde_chain.invoke({\"query\": query, \n",
    "                                           \"domain\": \"cybersecurity\"})\n",
    "\n",
    "docs = retriever.invoke(hypothetical_document)\n",
    "context = DOCUMENT_SEPERATOR.join(\n",
    "        format_document(doc, DOCUMENT_PROMPT)\n",
    "        for doc in docs\n",
    ")\n",
    "\n",
    "base_chain = prompt | llm"
   ]
  },
  {
   "cell_type": "code",
   "execution_count": 9,
   "metadata": {},
   "outputs": [
    {
     "name": "stdout",
     "output_type": "stream",
     "text": [
      "Hello Trainee,\n",
      "\n",
      "Welcome to today's lesson. As a cybersecurity expert, my goal is to provide you with the foundational knowledge necessary to excel in this field. Today, we will cover one of the most pervasive and dangerous threats you will encounter: phishing. This lesson will define what phishing is, explore the techniques attackers use, and detail the critical prevention strategies that organizations and individuals must implement.\n",
      "\n",
      "### **Introduction: Defining the Threat**\n",
      "\n",
      "At its core, phishing is a form of **social engineering**, which is the attempt to trick someone into revealing information or taking an action that can be used to compromise systems or networks [1]. Phishing is a specific type of social engineering attack where malicious actors, posing as trustworthy sources, lure victims into providing sensitive data [1, 11]. These attacks are most commonly delivered via email but can also occur through other communication channels [1].\n",
      "\n",
      "The primary objectives of a phishing campaign are twofold:\n",
      "\n",
      "1.  **Obtaining Login Credentials**: Attackers conduct phishing campaigns to steal login credentials (usernames and passwords) and credit card numbers, which can be used to gain initial access to networks or protected resources like email accounts [1, 2, 11].\n",
      "2.  **Malware Deployment**: Phishing is a common vector for deploying malware [1]. Attackers trick users into clicking a malicious link or downloading an attachment, which executes malware on the host system [9, 15]. This malware can then be used for follow-on activities, such as interrupting systems, escalating privileges, or maintaining persistence on the compromised network [1].\n",
      "\n",
      "These attacks are orchestrated by cybercriminals who impersonate legitimate persons or businesses, such as banks or online file-sharing services [8]. The accessibility of email makes it possible for almost anyone to create a phishing attack, contributing to its status as a global epidemic [8].\n",
      "\n",
      "### **Detailed Explanation of Key Principles**\n",
      "\n",
      "To effectively combat phishing, you must understand the attackers' methods and the technical controls used for defense.\n",
      "\n",
      "#### **Phishing Techniques and Variants**\n",
      "\n",
      "Phishing attacks range from generic to highly targeted:\n",
      "\n",
      "*   **Generic Phishing**: These are broad scams sent to as many recipients as possible [5]. A classic example is the \"advance-fee scam,\" where an email from a supposedly wealthy individual in a perilous situation asks for money with the promise of a large return [5].\n",
      "*   **Spear Phishing**: This is a more sophisticated attack targeting specific individuals or organizations [5]. The attacker first conducts research on the target to make the scam more convincing, such as by impersonating known vendors or business associates [5, 9].\n",
      "*   **Vishing and Smishing**: Phishing is not limited to email. **Vishing** occurs over the phone, where an attacker uses a voice message to create a sense of urgency and trick the victim into providing information, like a credit card PIN [10]. **Smishing** uses malicious text messages (SMS) or chat platforms like Teams, Slack, and WhatsApp to induce users to click a malicious link or provide personal data [4, 9, 10]. These platforms can be particularly dangerous as their constrained user interfaces make it difficult to detect malicious URLs [9].\n",
      "\n",
      "#### **Technical Prevention and Mitigation Strategies**\n",
      "\n",
      "A robust defense against phishing requires a multi-layered approach combining technology, policy, and user education.\n",
      "\n",
      "1.  **The Human Layer**: The first line of defense is the user. Organizations must implement regular user training on social engineering and phishing attacks. This education should focus on identifying suspicious emails and links, understanding the importance of not interacting with them, and knowing how to report potential incidents [3].\n",
      "\n",
      "2.  **Email Authentication**: To combat email spoofing, organizations should implement **Domain-based Message Authentication, Reporting, and Conformance (DMARC)** [3]. DMARC works with Sender Policy Framework (SPF) and Domain Keys Identified Mail (DKIM) to verify that an incoming email is from a legitimate server [3]. When a DMARC policy is set to 'reject', it provides robust protection by rejecting spoofed emails at the mail server before they are delivered [3]. DMARC reports also notify a domain owner when their domain is being spoofed [7].\n",
      "\n",
      "3.  **Network and Gateway Defenses**:\n",
      "    *   **Denylists**: Organizations should use denylists at the email gateway to block known malicious domains, URLs, IP addresses, and dangerous file extensions like `.exe` and `.scr` [12].\n",
      "    *   **DNS Filtering**: Free security tools, such as OpenDNS Home, can be implemented to prevent users from being redirected to malicious websites designed to steal credentials [7].\n",
      "    *   **Internal Monitoring**: It is essential to monitor internal mail and messaging traffic to identify suspicious activity. By establishing a baseline of normal traffic, security teams can more easily scrutinize deviations [7].\n",
      "\n",
      "4.  **Strengthening Authentication**: While **Multi-Factor Authentication (MFA)** can significantly reduce the risk of compromised credentials, weak implementations remain vulnerable [4]. Weak forms of MFA include:\n",
      "    *   Push-notification MFA without number matching, which can lead to \"MFA fatigue\" where a user accidentally approves a malicious request [6].\n",
      "    *   SMS or voice-based MFA, which can be compromised if an attacker convinces a cellular carrier to transfer control of a user's phone number [6].\n",
      "    *   MFA that is not based on phishing-resistant standards like Fast Identity Online (FIDO) or Public Key Infrastructure (PKI) [6].\n",
      "\n",
      "### **Real-World Application**\n",
      "\n",
      "Understanding the theory is crucial, but seeing how these attacks manifest in the real world solidifies that knowledge.\n",
      "\n",
      "*   **Vishing Example**: Attackers have impersonated Apple tech support, calling victims about a \"security problem\" with their device. They exploit the user's fear of being hacked to create a sense of urgency, convincing them to provide sensitive information [10].\n",
      "*   **Smishing Example**: A smishing campaign targeted Nokia users with text messages claiming they had won a car or money. The attackers then asked recipients to send a \"registration payment\" to claim their non-existent prize [10].\n",
      "*   **Incident Reporting**: When a user identifies a phishing attempt, they should use the reporting features built into email platforms like Microsoft Outlook [13]. Reporting helps email service providers identify and block new phishing campaigns [13]. For organizational incidents, it is critical to report them promptly to the appropriate authorities, such as CISA, the FBI's Internet Crime Complaint Center (IC3), or the MS-ISAC for state and local entities [13].\n",
      "\n",
      "### **Summary**\n",
      "\n",
      "Phishing is a deceptive social engineering attack designed to steal sensitive information and deploy malware [1, 2]. Attackers achieve this by impersonating trusted entities to lure victims into clicking malicious links, opening attachments, or divulging credentials [1, 15]. The methods vary from broad, generic scams to highly targeted spear phishing, vishing, and smishing campaigns [5, 10].\n",
      "\n",
      "Preventing phishing requires a comprehensive, layered defense. This includes technical controls like DMARC for email authentication and gateway denylists to block malicious content [3, 12]. It also involves hardening credentials with phishing-resistant MFA [6]. Most importantly, prevention relies on a well-trained workforce that can identify, avoid, and report phishing attempts, forming a critical human firewall [3, 13].\n",
      "\n",
      "---\n",
      "\n",
      "### **References**\n",
      "\n",
      "[1] Phishing Guidance: Stopping the Attack Cycle at Phase One - Page 3\n",
      "[2] Phishing from Université Côte d'Azur - Page 3\n",
      "[3] Phishing Guidance: Stopping the Attack Cycle at Phase One - Page 6\n",
      "[4] Phishing Guidance: Stopping the Attack Cycle at Phase One - Page 4\n",
      "[5] Phishing Guide 2023 by IT.ie - Page 4\n",
      "[6] Phishing Guidance: Stopping the Attack Cycle at Phase One - Page 4, 5\n",
      "[7] Phishing Guidance: Stopping the Attack Cycle at Phase One - Page 6\n",
      "[8] Phishing Guide 2023 by IT.ie - Page 4\n",
      "[9] Phishing Guidance: Stopping the Attack Cycle at Phase One - Page 5\n",
      "[10] Phishing from Université Côte d'Azur - Page 20, 21, 22\n",
      "[11] Phishing Guidance: Stopping the Attack Cycle at Phase One - Page 4\n",
      "[12] Phishing Guidance: Stopping the Attack Cycle at Phase One - Page 8, 7\n",
      "[13] Phishing Guidance: Stopping the Attack Cycle at Phase One - Page 12\n",
      "[14] Phishing Guidance: Stopping the Attack Cycle at Phase One - Page 11\n",
      "[15] Phishing Guidance: Stopping the Attack Cycle at Phase One - Page 5"
     ]
    }
   ],
   "source": [
    "async def generate_and_stream_hyde():\n",
    "    with open(\"phishing_lesson_hyde.md\", \"w\") as md_file:\n",
    "        async for chunk in base_chain.astream({\"input\": query,\n",
    "                                              \"context\": context,\n",
    "                                              \"domain\": \"cybersecurity\"}):\n",
    "            md_file.write(chunk)\n",
    "            print(chunk, end=\"\", flush=True)\n",
    "\n",
    "await generate_and_stream_hyde()"
   ]
  },
  {
   "cell_type": "code",
   "execution_count": 10,
   "metadata": {},
   "outputs": [
    {
     "data": {
      "text/plain": [
       "[Document(metadata={'source_id': 'Phishing Guidance: Stopping the Attack Cycle at Phase One', 'page_no': '{3}'}, page_content='OVERVIEW\\nSocial engineering is the attempt to trick someone into revealing information (e.g., a password) or taking an action that can be used to compromise systems or networks. Phishing is a form of social engineering where malicious actors lure victims (typically via email) to visit a malicious site or deceive them into providing login credentials. Malicious actors primarily leverage phishing for:\\n- Obtaining login credentials. Malicious actors conduct phishing campaigns to steal login credentials for initial network access.\\n- Malware deployment. Malicious actors commonly conduct phishing campaigns to deploy malware for follow-on activity, such as interrupting or damaging systems, escalating user privileges, and maintaining persistence on compromised systems.\\nThe Cybersecurity and Infrastructure Security Agency (CISA), National Security Agency (NSA), Federal Bureau of Investigation (FBI), and Multi-State Information Sharing and Analysis Center (MS-ISAC) are releasing this joint guide to outline phishing techniques malicious actors commonly use and to provide guidance for both network defenders and software manufacturers. This will help to reduce the impact of phishing attacks in obtaining credentials and deploying malware.'),\n",
       " Document(metadata={'source_id': \"Phishing from Université Côte d'Azur\", 'page_no': '{3}'}, page_content='WHAT IS PHISHING\\n- Phishing is a social engineering attack used to steal user data.\\n- The common stolen data are login credentials and credit card numbers.\\n- The goal is to send an email that seems something that the victim needs or wants and induce him/her to click a link or download an attachment.'),\n",
       " Document(metadata={'source_id': 'Phishing Guidance: Stopping the Attack Cycle at Phase One', 'page_no': '{6}'}, page_content=\"PROTECTING LOGIN CREDENTIALS\\n- Implement user training on social engineering and phishing attacks [CPG 2.I]. Regularly educate users on identifying suspicious emails and links, not interacting with those suspicious items, and the importance of reporting instances of opening suspicious emails, links, attachments, or other potential lures.\\n- Enable Domain-based Message Authentication, Reporting, and Conformance (DMARC) for received emails.\\n- o DMARC, along with Sender Policy Framework (SPF) and Domain Keys Identified Mail (DKIM), verify the sending server of received emails by checking published rules. If an email fails the check, it is deemed a spoofed email address, and the mail system will quarantine and report it as malicious.\\n- o Multiple recipients can be defined for the receipt of DMARC reports.\\n- o These tools reject any incoming email that has a domain that is being spoofed when a DMARC policy of reject is enabled.\\n- Ensure DMARC is set to 'reject' for sent emails [CPG 2.M]. This provides robust protection against other users receiving emails that impersonate a domain.\\n- o Spoofed emails are rejected at the mail server prior to delivery.\"),\n",
       " Document(metadata={'source_id': 'Phishing Guidance: Stopping the Attack Cycle at Phase One', 'page_no': '{4}'}, page_content='EXAMPLE TECHNIQUES\\nTo obtain login credentials, malicious actors commonly:\\n- Impersonate supervisors, trusted colleagues, or IT personnel to send targeted emails to deceive employees into providing their login credentials.\\n- Use smartphones or tablets, along with short message system (SMS), to send text messages or chats in platforms such as Slack, Teams, Signal, WhatsApp, or Facebook Messenger to lure users into divulging their login credentials.\\n- o Note: Organizations operating in hybrid environments have fewer face-to-face interactions and frequent virtual exchanges; thus, users in these environments are more likely to be deceived by social engineering techniques tailored towards platforms they frequently use.\\n- Use voice over internet protocol (VoIP) to easily spoof caller identification (ID) which takes advantage of public trust in the security of phone services, especially landline phones.\\nMulti-factor authentication (MFA) can reduce the ability of malicious actors using compromised credentials for initial access. Despite this, if weak forms of MFA are enabled, malicious actors can still obtain access through phishing and other techniques. Instances of weak MFA implementation include the following:'),\n",
       " Document(metadata={'source_id': 'Phishing Guide 2023 by IT.ie', 'page_no': '{4}'}, page_content=\"All you need to know about the most dangerous cyber attack\\nPhishing is the use of deceptive emails to obtain sensitive information. Some of these are generic scams sent out by cyber criminals to as many recipients as they can reach. For example, the advance-fee scam involves an email from a supposedly wealthy person in a perilous situation, o/f_shortten in a volatile country. They ask the recipient to kindly forward some money to help them out of trouble, with the promise that it will be returned manyfold once the sender has 'regained access to their funds'\\nOther phishing emails are more specific to the recipient. This is called spear phishing.  In  a  spear  phishing  attack,  the  cyber  criminal  will  do  research into the recipient to find information that will make the scam more likely to  succeed,  such  as  names  of  vendors  and  business  associates  who  the scammer could attempt to impersonate.\"),\n",
       " Document(metadata={'source_id': 'Phishing Guidance: Stopping the Attack Cycle at Phase One', 'page_no': '{4, 5}'}, page_content=\"EXAMPLE TECHNIQUES\\n- Accounts using MFA without Fast Identity Online (FIDO) MFA or Public Key Infrastructure (PKI)based MFA enabled. These forms of MFA- are susceptible to malicious actors using compromised legitimate credentials to authenticate as the user in legitimate login portals.\\n- Push-notification MFA without number matching. Malicious actors can send a multitude of approve or deny 'push requests' until a user either accepts the request, often by accident or in frustration. Thus, malicious actors may authenticate with the compromised user's credentials, if they do not have number matching enabled\\n- SMS or voice MFA. Malicious actors can convince cellular carrier representatives to transfer control of a user's phone number to receive any SMS or call-based MFA codes. Malicious actors may also deceive users by sending an email containing a link to a malicious website that mimics a company's legitimate login portal. The user submits their username, password, and the 6-digit code MFA, which the actors then receive to authenticate as the user in the legitimate login portal.\\nNote: For more information on weak MFA implementations, see CISA's Fact Sheets Implementing Phishing Resistant MFA and Implementing Number Matching in MFA Applications.\"),\n",
       " Document(metadata={'source_id': 'Phishing Guidance: Stopping the Attack Cycle at Phase One', 'page_no': '{6}'}, page_content=\"PROTECTING LOGIN CREDENTIALS\\n- o DMARC reports provide a mechanism for notifying the owner of a spoofed domain including the source of an apparent forger (information they would not receive otherwise.)\\n- o Enable DMARC policies to lower the chance of cyber threat actors crafting emails that appear to come from your organization's domain(s).\\n- o See CISA Insights Enhance Email and Web Security and the Center for Internet Security's (CIS's) page on DMARC, as well as Microsoft's Anti-Spoofing guidance for more information.[1]\\n- Implement internal mail and messaging monitoring. Monitoring internal mail and messaging traffic to identify suspicious activity is essential as users may be phished from outside the targeted network or without the knowledge of the organizational security team. Establish a baseline of normal network traffic and scrutinize any deviations.\\n- Implement free security tools, such as OpenDNS Home, to prevent cyber threat actors from redirecting users to malicious websites to steal their credentials. For more information see, CISA's Free Cybersecurity Services and Tools webpage.\\n- Harden credentials by:\"),\n",
       " Document(metadata={'source_id': 'Phishing Guide 2023 by IT.ie', 'page_no': '{4}'}, page_content='Who sends out phishing emails?\\n- Obtain sensitive information such as trade secrets\\n- Obtain personal information like bank account numbers and street addresses.\\n- Infect your device with malware through malicious attachments.\\n- Lead you to bogus websites.\\n- Dupe you into making payments to fake bank accounts.\\n- Get you to pay fake invoices\\nPhishing emails are sent out by cyber criminals posing as legitimate persons or businesses, such as banks or online file sharing services.\\nAnyone with access to an email account can create a phishing email, which is part of the reason why phishing has become such a worldwide epidemic in recent years.'),\n",
       " Document(metadata={'source_id': 'Phishing Guidance: Stopping the Attack Cycle at Phase One', 'page_no': '{5}'}, page_content='EXAMPLE TECHNIQUES\\nTo execute malware on host systems, malicious actors commonly:\\n- Send malicious hyperlinks or attachments that cause a user to download malware, facilitating initial access, information stealing, damage or disruption to systems or services, and/or the escalation of account privileges.\\n- o Malicious actors may use free, publicly available tools (such as GoPhish or Zphisher) to facilitate spearphishing campaigns where individual users are targeted with specific and convincing lures.\\n- o Malicious actors may send malicious attachments with macro scripts or messages with seemingly benign or obfuscated links that download malicious executables.\\n- Use smartphone or tablet apps, along with SMS, to send text messages or chats in collaboration platforms (i.e., Slack, Teams, Signal, WhatsApp, iMessage, and Facebook Messenger) to lure users into interacting with a malicious hyperlink or attachment that executes malware.\\nNote: It can be difficult for a user to detect malicious uniform resource locators (URLs) on these small platforms, as they use constrained user interfaces (UI).'),\n",
       " Document(metadata={'source_id': \"Phishing from Université Côte d'Azur\", 'page_no': '{20, 21, 22}'}, page_content=\"VISHING AND SMISHING\\nVishing and smishing are phishing over the phone.\\nIn vishing the victim receives a call with a voice message that looks like a communication from a known institution.\\nIt creates a sense of urgency for the user who for this reason provides information, like the PIN of a card.\\nIn smishing malicious text messages are sent to induce users to click on a malicious link or to deliver personal information.\\nVISHING, EXAMPLE\\nRecently, criminals have started calling victims pretending to be Apple tech support and providing users with a number to call to resolve the 'security problem.'\\nThese scams take advantage of user fears of their devices getting hacked.\\nhttps://www.csoonline.com/article/3234716/types-of-phishing-attacks-and-how-to-identify-them.html\\nSMISHING, EXAMPLE\\nIn February 2019 digital attackers posed as the Finnish multinational telecommunications and sent out text messages informing Nokia's users that they had won a car or money. The bad actors then asked recipients to send over money as a registration payment for their new car.\\nhttps://cyware.com/news/a-new-smishing-campaign-lucky-draw-targets-indian-nokia-users-5a35884c\"),\n",
       " Document(metadata={'source_id': 'Phishing Guidance: Stopping the Attack Cycle at Phase One', 'page_no': '{4}'}, page_content='DEFINITION\\nIn phishing attacks used to obtain login credentials, Malicious actors pose as trustworthy sources (e.g., colleagues, acquaintances, or organizations) to lure victims into providing their login credentials. Malicious actors can use the compromised credentials (e.g., usernames and passwords) to gain access to enterprise networks or protected resources, such as email accounts.'),\n",
       " Document(metadata={'source_id': 'Phishing Guidance: Stopping the Attack Cycle at Phase One', 'page_no': '{8, 7}'}, page_content=\"PREVENTING MALWARE EXECUTION\\nCISA, NSA, FBI, and MS-ISAC recommend organizations implement the following to reduce the likelihood of successful malware execution following phishing attacks.\\n- Incorporate denylists at the email gateway and enable firewall rules to prevent successful malware deployment.\\n- Use denylists to block known malicious domains, URLs, and IP addresses as well as file extensions such as .scr, .exe, .pif, and .cpl and mislabeled file extensions (e.g., a .exe file that is labeled as a .doc file.)\\n- o State local tribal and territory (SLTT) entities should enable malicious domain blocking and reporting (MDBR), which is a cloud-based solution with recursive domain name system (DNS) technology that works to prevent users from connecting to malicious\\ndomains. For more information, visit CIS's webpage on Malicious Domain Blocking and Reporting (MDBR).\"),\n",
       " Document(metadata={'source_id': 'Phishing Guidance: Stopping the Attack Cycle at Phase One', 'page_no': '{12}'}, page_content=\"REPORTING\\nOrganizations are encouraged to use reporting features that are built into Microsoft Outlook and other cloud email platforms, as well as report spam directly to Microsoft, Apple, and Google, as applicable. Reporting suspicious phishing activity is one of the most efficient methods for protecting organizations as it helps email service providers identify new or trending phishing attacks.\\n- CISA urges organizations to promptly report phishing incidents to CISA at report@cisa.gov or call the 24/7 response line at (888) 282-0870.\\n- To report spoofing or phishing attempts (or to report that you've been a victim), file a complaint with the FBI's Internet Crime Complaint Center (IC3), or contact your local FBI Field Office to report an incident.\\n- State, local, tribal, and territorial (SLTT) government entities can report to the Multi-State Information Sharing and Analysis Center (MS-ISAC) by emailing SOC@cisecurity.org or calling (866) 787-4722.\"),\n",
       " Document(metadata={'source_id': 'Phishing Guidance: Stopping the Attack Cycle at Phase One', 'page_no': '{11}'}, page_content='SOFTWARE MANUFACTURERS\\n- o Make MFA an opt-out feature rather than opt-in; have the system regularly prompt the administrator to enroll in MFA until they have successfully enabled it on their account.\\n- Implement SSO for applications via modern open standards. Examples include Security Assertion Markup Language (SAML) or OpenID Connect (OIDC.) Make this capability available by default at no additional cost.\\n- Consider implementing security notifications for the customer when non-secure configurations are used in email software products. For example, if administrators are not enrolled in MFA, send repeated security notifications warning the organization of the present security risks so that they know to mitigate the risk.\\nTo mitigate successful malware execution following phishing attacks:\\n- Ensure phishing filtering and blocking mechanisms are packaged with email software by default to prevent successful malware deployment.\\n- Provide email software with limited administrative rights by default. Only allow designated administrator accounts to be used for administrative purposes.\\n- Provide email software with application allowlists by default.\\n- Provide a self-serve application store where customers can install approved applications. Block applications and executables from external, unapproved sources that are not permitted via organizational policy.\\n- Include mechanisms that block macros by default with email products.\\n- Include RBI solutions by default.'),\n",
       " Document(metadata={'source_id': 'Phishing Guidance: Stopping the Attack Cycle at Phase One', 'page_no': '{5}'}, page_content='DEFINITION\\nIn malware-based phishing attacks, Malicious actors pose as trustworthy sources (e.g., colleagues, acquaintances, or organizations) to lure a victim into interacting with a malicious hyperlink or opening an email attachment to execute malware on host systems.')]"
      ]
     },
     "execution_count": 10,
     "metadata": {},
     "output_type": "execute_result"
    }
   ],
   "source": [
    "docs"
   ]
  }
 ],
 "metadata": {
  "kernelspec": {
   "display_name": "cyberrag",
   "language": "python",
   "name": "python3"
  },
  "language_info": {
   "codemirror_mode": {
    "name": "ipython",
    "version": 3
   },
   "file_extension": ".py",
   "mimetype": "text/x-python",
   "name": "python",
   "nbconvert_exporter": "python",
   "pygments_lexer": "ipython3",
   "version": "3.11.12"
  }
 },
 "nbformat": 4,
 "nbformat_minor": 2
}
