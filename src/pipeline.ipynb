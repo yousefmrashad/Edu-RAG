{
 "cells": [
  {
   "cell_type": "markdown",
   "metadata": {},
   "source": [
    "# **End-to-End RAG System with Weaviate and Google Gemini**\n",
    "\n",
    "This notebook provides a complete, runnable example of a Retrieval-Augmented Generation (RAG) system. It demonstrates how to leverage a local vector database (Weaviate), a modern embedding model, and a powerful LLM (Google Gemini) to build a system that can answer questions based on a provided set of documents.\n",
    "\n",
    "The core components of this system are:\n",
    "- **Document Processing:** Loading, chunking, and embedding documents.\n",
    "- **Vector Store:** Storing the document chunks and their embeddings in a vector database.\n",
    "- **Retrieval:** Retrieving the most relevant chunks based on a user's query.\n",
    "- **Generation:** Using an LLM to generate a comprehensive answer based on the retrieved context.\n",
    "\n",
    "For this example, the system is configured to answer questions about phishing using a set of public PDF guides."
   ]
  },
  {
   "cell_type": "markdown",
   "metadata": {},
   "source": [
    "### **1. Setup and Initialization**\n",
    "\n",
    "This first cell imports all the necessary classes and functions from the project. It also sets up a warning filter to keep the output clean."
   ]
  },
  {
   "cell_type": "code",
   "execution_count": 1,
   "metadata": {},
   "outputs": [],
   "source": [
    "from preprocessing.embedding import Embedding\n",
    "from preprocessing.document import DocumentProcessor\n",
    "from utils.db_config import DB\n",
    "from utils.config import *\n",
    "from time import time\n",
    "import warnings\n",
    "\n",
    "warnings.filterwarnings(\"ignore\")"
   ]
  },
  {
   "cell_type": "markdown",
   "metadata": {},
   "source": [
    "### **2. Connect to the Database and Load the Embedding Model**\n",
    "\n",
    "Here, we establish a connection to the local Weaviate database. If the required collection doesn't exist, the `DB().connect()` method will create it automatically. We then load the `Embedding` model, which will be used to convert text into vector representations."
   ]
  },
  {
   "cell_type": "code",
   "execution_count": 2,
   "metadata": {},
   "outputs": [],
   "source": [
    "client = DB().connect()\n",
    "embed = Embedding()"
   ]
  },
  {
   "cell_type": "markdown",
   "metadata": {},
   "source": [
    "### **3. Define Document Sources**\n",
    "\n",
    "This cell defines the list of documents that will be processed and used as the knowledge base for the RAG system. The documents are a collection of publicly available PDF guides on phishing."
   ]
  },
  {
   "cell_type": "code",
   "execution_count": 3,
   "metadata": {},
   "outputs": [],
   "source": [
    "phishing_resources = [\n",
    "  {\n",
    "    \"title\": \"Phishing Guidance: Stopping the Attack Cycle at Phase One\",\n",
    "    \"url\": \"https://www.cisa.gov/sites/default/files/2023-10/Phishing%20Guidance%20-%20Stopping%20the%20Attack%20Cycle%20at%20Phase%20One_508c.pdf\"\n",
    "  },\n",
    "  {\n",
    "    \"title\": \"Phishing from Université Côte d'Azur\",\n",
    "    \"url\": \"https://www.i3s.unice.fr/~bmartin/Phishing.pdf\"\n",
    "  },\n",
    "  {\n",
    "    \"title\": \"Lesson 1: Phishing Analysis for Beginners\",\n",
    "    \"url\": \"https://internews.org/wp-content/uploads/2021/03/Lesson1.pdf\"\n",
    "  },\n",
    "  {\n",
    "    \"title\": \"Phishing Guide 2023 by IT.ie\",\n",
    "    \"url\": \"https://it.ie/wp-content/uploads/2023/09/IT.ie-Phishing-Guide-2023.pdf\"\n",
    "  }\n",
    "]"
   ]
  },
  {
   "cell_type": "markdown",
   "metadata": {},
   "source": [
    "### **4. Process and Store Documents**\n",
    "\n",
    "This loop iterates through the list of resources. For each document, it initializes a `DocumentProcessor` and runs the `process_document` method. This method automatically handles the entire pipeline of loading, splitting, and embedding the document, then stores the processed chunks in the Weaviate database. It also includes a check to skip documents that have already been processed to save time."
   ]
  },
  {
   "cell_type": "code",
   "execution_count": 4,
   "metadata": {},
   "outputs": [
    {
     "name": "stdout",
     "output_type": "stream",
     "text": [
      "Document https://www.cisa.gov/sites/default/files/2023-10/Phishing%20Guidance%20-%20Stopping%20the%20Attack%20Cycle%20at%20Phase%20One_508c.pdf already exists in the database. Skipping processing.\n",
      "Document https://www.i3s.unice.fr/~bmartin/Phishing.pdf already exists in the database. Skipping processing.\n",
      "Document https://internews.org/wp-content/uploads/2021/03/Lesson1.pdf already exists in the database. Skipping processing.\n",
      "Document https://it.ie/wp-content/uploads/2023/09/IT.ie-Phishing-Guide-2023.pdf already exists in the database. Skipping processing.\n"
     ]
    }
   ],
   "source": [
    "for item in phishing_resources:\n",
    "    doc = DocumentProcessor(item['url'], item['title'])\n",
    "    doc.process_document(embed, client)"
   ]
  },
  {
   "cell_type": "markdown",
   "metadata": {},
   "source": [
    "### **5. Create the RAG Chain**\n",
    "\n",
    "This is where we assemble the RAG components. \n",
    "\n",
    "- We initialize the `Retriever` and configure its search parameters, such as the number of chunks to fetch (`k`) and the blend between keyword and vector search (`alpha`). \n",
    "- We then load the `GoogleGenerativeAI` model to serve as our LLM.\n",
    "- Finally, we define two `PromptTemplate`s: one for structuring the retrieved document context (`DOCUMENT_PROMPT`) and another for guiding the LLM to generate the final response (`RETRIEVAL_PROMPT`). The final `rag_chain` combines these components into a single, executable pipeline."
   ]
  },
  {
   "cell_type": "code",
   "execution_count": 5,
   "metadata": {},
   "outputs": [],
   "source": [
    "from rag.weaviate_retriever import Retriever\n",
    "from langchain_google_genai import GoogleGenerativeAI\n",
    "from langchain.chains.retrieval import create_retrieval_chain \n",
    "from langchain.chains.combine_documents import create_stuff_documents_chain\n",
    "from langchain.prompts import PromptTemplate\n",
    "from utils.config import *\n",
    "\n",
    "retriever = Retriever(client, embed).as_retriever(search_kwargs={'source_ids': None, \n",
    "                                                                 'auto_merge': False, 'k': 30, 'top_k': 15,\n",
    "                                                                 'alpha': 0.25})\n",
    "\n",
    "llm = GoogleGenerativeAI(model=LLM_MODEL_NAME, google_api_key= GOOGLE_API_KEY, temperature= 0)\n",
    "\n",
    "RETRIEVAL_PROMPT =\"\"\"You are an expert cybersecurity instructor. \n",
    "Your task is to write a detailed, 800-word lesson on the topic of ```{input}``` for a cybersecurity trainee. \n",
    "Use the following source materials to ensure accuracy and factual correctness:\n",
    "\n",
    "```{context}```\n",
    "\n",
    "Your lesson must be structured with the following sections: an introduction that defines the core concepts, \n",
    "a detailed explanation of the key technical principles, a \"real-world application\" section, and a summary. \n",
    "Maintain a professional and technical tone throughout. At the end of the lesson, include a \"References\" section. \n",
    "For each piece of information, cite the source using a numerical reference corresponding to the snippet it cites. \n",
    "\n",
    "The references should be in the following format:\n",
    "[1] Source Title - Page Number \n",
    "[2] Source Title - Page Number, etc.\n",
    "\n",
    "Ensure that the lesson is comprehensive and covers all aspects of the topic.\n",
    "Do not include information not found in the source material.\n",
    "Cite only the sources provided in the context.\"\"\"\n",
    "\n",
    "DOCUMENT_PROMPT = PromptTemplate(\n",
    "    input_variables=[\"page_content\", \"page_no\", \"source_id\"],\n",
    "    template=\"***Source ID***: {source_id}\\n***Page Number***: {page_no}\\n\\nContent: {page_content}\"\n",
    ")\n",
    "prompt = PromptTemplate(template=RETRIEVAL_PROMPT, input_variables=[\"input\", \"context\"])\n",
    "question_answer_chain = create_stuff_documents_chain(llm, prompt, document_prompt=DOCUMENT_PROMPT)\n",
    "rag_chain = create_retrieval_chain(retriever, question_answer_chain)"
   ]
  },
  {
   "cell_type": "markdown",
   "metadata": {},
   "source": [
    "### **6. Execute the RAG Chain and Stream the Output**\n",
    "\n",
    "This final cell defines the user's query and executes the `rag_chain`. Instead of waiting for the full response, it uses `astream` to stream the output as it is generated, providing a faster and more responsive experience. The output is printed to the console and also saved to a markdown file named `phishing_lesson.md`."
   ]
  },
  {
   "cell_type": "code",
   "execution_count": 6,
   "metadata": {},
   "outputs": [
    {
     "name": "stdout",
     "output_type": "stream",
     "text": [
      "As an expert cybersecurity instructor, I'm here to guide you through one of the most prevalent and dangerous cyber threats: phishing. Understanding what phishing is and how to prevent it is fundamental to becoming an effective cybersecurity professional.\n",
      "\n",
      "### Introduction: Defining the Core Concepts\n",
      "\n",
      "Phishing is a sophisticated form of social engineering, a deceptive tactic used by malicious actors to trick individuals into revealing sensitive information or taking actions that can compromise systems or networks [2]. At its core, phishing is a social engineering attack designed to steal user data, most commonly login credentials and credit card numbers [1]. The primary objective is to send an email that appears legitimate and desirable, inducing the victim to click a malicious link or download an attachment [1, 3].\n",
      "\n",
      "Malicious actors primarily leverage phishing for two critical purposes: obtaining login credentials for initial network access and deploying malware for subsequent activities, such as interrupting or damaging systems, escalating user privileges, or maintaining persistence on compromised systems [2]. In these attacks, the malicious actors pose as trustworthy sources—such as colleagues, acquaintances, or legitimate organizations—to lure victims into providing their credentials [7]. Phishing is essentially the use of deceptive emails to obtain sensitive information [3].\n",
      "\n",
      "### Detailed Explanation of Key Technical Principles\n",
      "\n",
      "Phishing attacks are not uniform; they vary in their targeting and complexity. Some are **generic scams**, broad campaigns sent to a vast number of recipients, like the advance-fee scam where a supposedly wealthy individual requests money with a promise of future returns [3].\n",
      "\n",
      "More insidious and effective are **spear phishing** attacks, which are highly specific to an individual or organization [3, 11]. In a spear phishing attack, the cyber criminal conducts extensive research on the recipient to gather information, such as names of vendors or business associates, which allows them to impersonate trusted entities and make the scam more convincing [3, 11]. These attacks are exceptionally effective because the emails appear to come from a trusted source and are tailored, unlike impersonal blanket emails [11]. Spear phishing is also notably common on social media platforms [11].\n",
      "\n",
      "Another advanced variant is **clone phishing**, where the attacker creates an almost identical replica of a message previously received by the victim, making it appear authentic [8]. The email is sent from an address similar to the legitimate sender, but the original attachment or link is replaced with a malicious one. This attack may even claim to be a re-send or an updated version of the original message [8].\n",
      "\n",
      "Understanding the stages of a phishing attack is crucial for effective defense. A phishing scam typically unfolds in three distinct stages, from the initial planning to the user's exposure [10]. The third stage, known as the \"Attack (Catch),\" is when the phishing email is actually sent, and the cyber criminal awaits the victim's response. At this critical juncture, the effectiveness of spam filters and the user's knowledge and ability to identify suspicious emails are put to the test [10].\n",
      "\n",
      "Technical measures form the first line of defense against phishing. **Anti-phishing software** is specifically designed to prevent phishing emails from reaching user inboxes [9]. This category includes tools such as spam filters, which block emails from suspicious sources or those containing suspicious content, and AI-powered email scanners [9, 6]. Implementing security messages, such such as banners that warn users when an email originates from outside the company, also adds a crucial layer of protection [6].\n",
      "\n",
      "A robust technical measure for email security is the implementation of **Domain-based Message Authentication, Reporting, and Conformance (DMARC)** for received emails [12]. DMARC, in conjunction with Sender Policy Framework (SPF) and Domain Keys Identified Mail (DKIM), verifies the sending server of incoming emails by checking published rules [12]. If an email fails this check, it is deemed a spoofed email address, and the mail system can quarantine and report it as malicious [12]. Furthermore, ensuring DMARC is set to 'reject' for sent emails provides robust protection against other users receiving emails that impersonate your domain, as spoofed emails are rejected at the mail server prior to delivery [12].\n",
      "\n",
      "### Real-World Application\n",
      "\n",
      "While technical measures are indispensable, no software can stop every scam from finding its way to user inboxes [5]. This highlights the critical importance of addressing the **human factor** in cybersecurity [6]. Training users on email security, including how to identify and correctly deal with phishing emails, is essential for securing any business against these threats [5]. Users must be aware of common signs of phishing, such as look-alike domains and unusual requests, and they must exercise caution when receiving unexpected attachments or payment requests [5].\n",
      "\n",
      "Effective human risk management can transform employees from potential weak links into a strong defense against cyber attacks [4]. This can be achieved through comprehensive solutions that offer short, engaging training modules and realistic phishing simulations [4]. These simulations are invaluable; they allow organizations to send realistic phishing emails to end-users to gauge their response, assess the risk level, and provide a practical, retention-focused learning experience that often surpasses traditional training courses [5]. Regular education on identifying suspicious emails and links, the importance of not interacting with those suspicious items, and reporting any instances of opening suspicious emails, links, attachments, or other potential lures is paramount [12].\n",
      "\n",
      "For organizations, especially small- and medium-sized businesses that may not have extensive IT resources, tailored recommendations exist to help them defend against phishing threats [13]. Furthermore, software manufacturers play a crucial role by developing and supplying software that is secure by design and default, thereby enhancing the cybersecurity posture of their customers against prevalent phishing threats [13]. By combining robust technical controls with continuous user education and awareness, organizations can significantly reduce the chances of a successful phishing breach, even if stopping all phishing emails from reaching inboxes is nearly impossible [6].\n",
      "\n",
      "### Summary\n",
      "\n",
      "Phishing is a pervasive social engineering attack designed to steal sensitive data, primarily through deceptive emails. It encompasses various forms, from broad generic scams to highly targeted spear phishing and deceptive clone phishing. While technical defenses like anti-phishing software, spam filters, and DMARC are crucial for blocking malicious emails, they are not foolproof. The human element remains a critical vulnerability and, conversely, a powerful defense. Comprehensive user training, awareness of phishing indicators, and realistic phishing simulations are vital for empowering employees to recognize and resist these attacks. By integrating strong technical measures with continuous human education and vigilance, organizations can significantly mitigate the risk posed by phishing and protect their digital assets.\n",
      "\n",
      "### References\n",
      "\n",
      "[1] Phishing from Université Côte d'Azur - Page 3\n",
      "[2] Phishing Guidance: Stopping the Attack Cycle at Phase One - Page 3\n",
      "[3] Phishing Guide 2023 by IT.ie - Page 4\n",
      "[4] Phishing Guide 2023 by IT.ie - Page 13\n",
      "[5] Phishing Guide 2023 by IT.ie - Page 13\n",
      "[6] Phishing Guide 2023 by IT.ie - Page 12\n",
      "[7] Phishing Guidance: Stopping the Attack Cycle at Phase One - Page 4\n",
      "[8] Phishing from Université Côte d'Azur - Page 19\n",
      "[9] Phishing Guide 2023 by IT.ie - Page 13\n",
      "[10] Phishing Guide 2023 by IT.ie - Page 6\n",
      "[11] Phishing from Université Côte d'Azur - Page 12, 13\n",
      "[12] Phishing Guidance: Stopping the Attack Cycle at Phase One - Page 6\n",
      "[13] Phishing Guidance: Stopping the Attack Cycle at Phase One - Page 3"
     ]
    }
   ],
   "source": [
    "query = \"What is phishing and how can it be prevented in cybersecurity?\"\n",
    "\n",
    "async def stream_result_to_md():\n",
    "    with open(\"phishing_lesson.md\", \"w\") as md_file:\n",
    "        async for chunk in rag_chain.astream({\"input\": query}):\n",
    "            if \"answer\" in chunk:\n",
    "                md_file.write(chunk[\"answer\"])\n",
    "                print(chunk[\"answer\"], end=\"\", flush=True)\n",
    "\n",
    "await stream_result_to_md()"
   ]
  }
 ],
 "metadata": {
  "kernelspec": {
   "display_name": "cyberrag",
   "language": "python",
   "name": "python3"
  },
  "language_info": {
   "codemirror_mode": {
    "name": "ipython",
    "version": 3
   },
   "file_extension": ".py",
   "mimetype": "text/x-python",
   "name": "python",
   "nbconvert_exporter": "python",
   "pygments_lexer": "ipython3",
   "version": "3.11.12"
  }
 },
 "nbformat": 4,
 "nbformat_minor": 2
}
