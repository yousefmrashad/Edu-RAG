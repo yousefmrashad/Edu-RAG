{
 "cells": [
  {
   "cell_type": "markdown",
   "metadata": {},
   "source": [
    "# **End-to-End RAG System with Weaviate and Google Gemini**\n",
    "\n",
    "This notebook provides a complete, runnable example of a Retrieval-Augmented Generation (RAG) system. It demonstrates how to leverage a local vector database (Weaviate), a modern embedding model, and a powerful LLM (Google Gemini) to build a system that can answer questions based on a provided set of documents.\n",
    "\n",
    "The core components of this system are:\n",
    "- **Document Processing:** Loading, chunking, and embedding documents.\n",
    "- **Vector Store:** Storing the document chunks and their embeddings in a vector database.\n",
    "- **Retrieval:** Retrieving the most relevant chunks based on a user's query.\n",
    "- **Generation:** Using an LLM to generate a comprehensive answer based on the retrieved context.\n",
    "\n",
    "For this example, the system is configured to answer questions about phishing using a set of public PDF guides."
   ]
  },
  {
   "cell_type": "markdown",
   "metadata": {},
   "source": [
    "### **1. Setup and Initialization**\n",
    "\n",
    "This first cell imports all the necessary classes and functions from the project. It also sets up a warning filter to keep the output clean."
   ]
  },
  {
   "cell_type": "code",
   "execution_count": 1,
   "metadata": {},
   "outputs": [],
   "source": [
    "from preprocessing.embedding import Embedding\n",
    "from preprocessing.document import DocumentProcessor\n",
    "from utils.db_config import DB\n",
    "from utils.config import *\n",
    "from time import time\n",
    "import warnings\n",
    "\n",
    "warnings.filterwarnings(\"ignore\")"
   ]
  },
  {
   "cell_type": "markdown",
   "metadata": {},
   "source": [
    "### **2. Connect to the Database and Load the Embedding Model**\n",
    "\n",
    "Here, we establish a connection to the local Weaviate database. If the required collection doesn't exist, the `DB().connect()` method will create it automatically. We then load the `Embedding` model, which will be used to convert text into vector representations."
   ]
  },
  {
   "cell_type": "code",
   "execution_count": 2,
   "metadata": {},
   "outputs": [],
   "source": [
    "client = DB().connect()\n",
    "embed = Embedding()"
   ]
  },
  {
   "cell_type": "markdown",
   "metadata": {},
   "source": [
    "### **3. Define Document Sources**\n",
    "\n",
    "This cell defines the list of documents that will be processed and used as the knowledge base for the RAG system. The documents are a collection of publicly available PDF guides on phishing."
   ]
  },
  {
   "cell_type": "code",
   "execution_count": 3,
   "metadata": {},
   "outputs": [],
   "source": [
    "phishing_resources = [\n",
    "  {\n",
    "    \"title\": \"Phishing Guidance: Stopping the Attack Cycle at Phase One\",\n",
    "    \"url\": \"https://www.cisa.gov/sites/default/files/2023-10/Phishing%20Guidance%20-%20Stopping%20the%20Attack%20Cycle%20at%20Phase%20One_508c.pdf\"\n",
    "  },\n",
    "  {\n",
    "    \"title\": \"Phishing from Université Côte d'Azur\",\n",
    "    \"url\": \"https://www.i3s.unice.fr/~bmartin/Phishing.pdf\"\n",
    "  },\n",
    "  {\n",
    "    \"title\": \"Lesson 1: Phishing Analysis for Beginners\",\n",
    "    \"url\": \"https://internews.org/wp-content/uploads/2021/03/Lesson1.pdf\"\n",
    "  },\n",
    "  {\n",
    "    \"title\": \"Phishing Guide 2023 by IT.ie\",\n",
    "    \"url\": \"https://it.ie/wp-content/uploads/2023/09/IT.ie-Phishing-Guide-2023.pdf\"\n",
    "  }\n",
    "]"
   ]
  },
  {
   "cell_type": "markdown",
   "metadata": {},
   "source": [
    "### **4. Process and Store Documents**\n",
    "\n",
    "This loop iterates through the list of resources. For each document, it initializes a `DocumentProcessor` and runs the `process_document` method. This method automatically handles the entire pipeline of loading, splitting, and embedding the document, then stores the processed chunks in the Weaviate database. It also includes a check to skip documents that have already been processed to save time."
   ]
  },
  {
   "cell_type": "code",
   "execution_count": 4,
   "metadata": {},
   "outputs": [
    {
     "name": "stdout",
     "output_type": "stream",
     "text": [
      "Document https://www.cisa.gov/sites/default/files/2023-10/Phishing%20Guidance%20-%20Stopping%20the%20Attack%20Cycle%20at%20Phase%20One_508c.pdf already exists in the database. Skipping processing.\n",
      "Document https://www.i3s.unice.fr/~bmartin/Phishing.pdf already exists in the database. Skipping processing.\n",
      "Document https://internews.org/wp-content/uploads/2021/03/Lesson1.pdf already exists in the database. Skipping processing.\n",
      "Document https://it.ie/wp-content/uploads/2023/09/IT.ie-Phishing-Guide-2023.pdf already exists in the database. Skipping processing.\n"
     ]
    }
   ],
   "source": [
    "for item in phishing_resources:\n",
    "    doc = DocumentProcessor(item['url'], item['title'])\n",
    "    doc.process_document(embed, client)"
   ]
  },
  {
   "cell_type": "markdown",
   "metadata": {},
   "source": [
    "### **5. Create the RAG Chain**\n",
    "\n",
    "This is where we assemble the RAG components. \n",
    "\n",
    "- We initialize the `Retriever` and configure its search parameters, such as the number of chunks to fetch (`k`) and the blend between keyword and vector search (`alpha`). \n",
    "- We then load the `GoogleGenerativeAI` model to serve as our LLM.\n",
    "- Finally, we define two `PromptTemplate`s: one for structuring the retrieved document context (`DOCUMENT_PROMPT`) and another for guiding the LLM to generate the final response (`RETRIEVAL_PROMPT`). The final `rag_chain` combines these components into a single, executable pipeline."
   ]
  },
  {
   "cell_type": "code",
   "execution_count": 5,
   "metadata": {},
   "outputs": [],
   "source": [
    "from retriever.weaviate_retriever import Retriever\n",
    "from langchain_google_genai import GoogleGenerativeAI\n",
    "from langchain.chains.retrieval import create_retrieval_chain \n",
    "from langchain.chains.combine_documents import create_stuff_documents_chain\n",
    "from langchain.prompts import PromptTemplate\n",
    "\n",
    "retriever = Retriever(client, embed).as_retriever(search_kwargs={'source_ids': None, \n",
    "                                                                 'auto_merge': False, 'k': 30, 'top_k': 15,\n",
    "                                                                 'alpha': 0.25})\n",
    "\n",
    "llm = GoogleGenerativeAI(model=LLM_MODEL_NAME, google_api_key= GOOGLE_API_KEY, temperature= 0)\n",
    "\n",
    "RETRIEVAL_PROMPT =\"\"\"You are an expert {domain} instructor. \n",
    "Your task is to write a detailed, 800-word lesson on the topic of ```{input}``` for a {domain} trainee. \n",
    "Use the following source materials to ensure accuracy and factual correctness:\n",
    "\n",
    "```{context}```\n",
    "\n",
    "Your lesson must be structured with the following sections: an introduction that defines the core concepts, \n",
    "a detailed explanation of the key technical principles, a \"real-world application\" section, and a summary. \n",
    "Maintain a professional and technical tone throughout. At the end of the lesson, include a \"References\" section. \n",
    "For each piece of information, cite the source using a numerical reference corresponding to the snippet it cites. \n",
    "\n",
    "The references should be in the following format:\n",
    "[1] Source Title - Page Number \n",
    "[2] Source Title - Page Number, etc.\n",
    "\n",
    "Ensure that the lesson is comprehensive and covers all aspects of the topic.\n",
    "Do not include information not found in the source material.\n",
    "Cite only the sources provided in the context.\"\"\"\n",
    "\n",
    "DOCUMENT_PROMPT = PromptTemplate(\n",
    "    input_variables=[\"page_content\", \"page_no\", \"source_id\"],\n",
    "    template=\"***Source ID***: {source_id}\\n***Page Number***: {page_no}\\n\\nContent: {page_content}\"\n",
    ")\n",
    "prompt = PromptTemplate(template=RETRIEVAL_PROMPT, input_variables=[\"input\", \"domain\", \"context\"])\n",
    "question_answer_chain = create_stuff_documents_chain(llm, prompt, document_prompt=DOCUMENT_PROMPT)\n",
    "rag_chain = create_retrieval_chain(retriever, question_answer_chain)"
   ]
  },
  {
   "cell_type": "markdown",
   "metadata": {},
   "source": [
    "### **6. Execute the RAG Chain and Stream the Output**\n",
    "\n",
    "This final cell defines the user's query and executes the `rag_chain`. Instead of waiting for the full response, it uses `astream` to stream the output as it is generated, providing a faster and more responsive experience. The output is printed to the console and also saved to a markdown file named `phishing_lesson.md`."
   ]
  },
  {
   "cell_type": "code",
   "execution_count": 6,
   "metadata": {},
   "outputs": [
    {
     "name": "stdout",
     "output_type": "stream",
     "text": [
      "### **Lesson: What is Phishing and How Can It Be Prevented in Cybersecurity?**\n",
      "\n",
      "#### **Introduction**\n",
      "\n",
      "Welcome, trainee. This lesson provides a foundational understanding of phishing, one of the most pervasive and dangerous threats in the digital landscape. Phishing is a type of social engineering attack where malicious actors attempt to trick individuals into revealing sensitive information or taking an action that compromises their security [2]. At its core, social engineering is the art of manipulation, and phishing is its primary digital weapon [2].\n",
      "\n",
      "The objective of a phishing attack is to steal valuable user data, most commonly login credentials and credit card numbers [1]. Attackers achieve this by posing as trustworthy sources—such as colleagues, well-known organizations, or acquaintances—to lure victims [7]. They craft deceptive emails designed to appear as something the victim needs or wants, inducing them to click a malicious link or download a compromised attachment [1]. These attacks serve two main purposes for malicious actors: obtaining login credentials for initial network access and deploying malware for subsequent malicious activities, such as damaging systems or escalating privileges [2].\n",
      "\n",
      "#### **Key Technical Principles: The Anatomy of a Phishing Attack**\n",
      "\n",
      "To effectively defend against phishing, you must first understand how these attacks are constructed and executed. A successful phishing scam typically unfolds in three distinct stages, culminating in the final \"Attack (Catch)\" phase where the malicious email is sent to its target [10, 13]. This is the moment where an organization's technical filters and a user's security awareness are put to the test [13]. Phishing attacks are not monolithic; they vary in their level of sophistication and targeting.\n",
      "\n",
      "The primary types of phishing include:\n",
      "\n",
      "*   **Generic Phishing:** These are broad, scattergun attacks sent to as many recipients as possible [3]. A classic example is the \"advance-fee scam,\" where an email from a supposedly wealthy individual in distress promises a large reward in exchange for a small upfront payment to help them regain access to their funds [3].\n",
      "*   **Spear Phishing:** This is a far more targeted and dangerous form of phishing. In a spear phishing attack, the cybercriminal conducts prior research on the target, which could be a specific individual or an entire organization [3, 11]. This research allows the attacker to craft a highly convincing and personalized message, often by impersonating known vendors or business associates [3]. Because these emails appear to come from a trusted source and contain specific details relevant to the victim, they are extremely effective [11]. For instance, instead of sending a generic email to all PayPal users, an attacker might send a targeted message with no impersonal greetings, making it look far more legitimate [11].\n",
      "*   **Clone Phishing:** In this technique, an attacker creates a near-perfect replica of a legitimate email that the victim has previously received [8]. The email is sent from an address that closely resembles the original sender's. The attacker's only change is to replace a legitimate link or attachment with a malicious one [8]. To add a layer of authenticity, the email may claim to be a \"re-send\" or an \"updated version\" of the original message [8].\n",
      "\n",
      "#### **Real-World Application: A Multi-Layered Defense Strategy**\n",
      "\n",
      "While it is nearly impossible to completely stop phishing emails from reaching user inboxes, a multi-layered defense strategy can significantly reduce the chances of a successful breach [6]. This strategy must address both technical vulnerabilities and the human element [6].\n",
      "\n",
      "**Layer 1: Technical Defenses**\n",
      "\n",
      "The first step in mitigating the phishing threat is to implement robust technical measures [6]. These controls act as the first line of defense:\n",
      "\n",
      "*   **Anti-Phishing Software:** This includes tools like spam filters and advanced AI-powered email scanners designed to identify and block malicious emails before they land in a user's inbox [9, 6].\n",
      "*   **Email Authentication Protocols:** Implementing Domain-based Message Authentication, Reporting, and Conformance (DMARC), along with Sender Policy Framework (SPF) and Domain Keys Identified Mail (DKIM), is critical [14]. These protocols work together to verify that an incoming email originates from the server it claims to. If an email fails this check, it is identified as spoofed, and the mail system can automatically quarantine it [14]. For maximum protection, an organization's DMARC policy should be set to 'reject' for both sent and received emails, which ensures that spoofed emails impersonating your domain are rejected before delivery [14].\n",
      "*   **Warning Banners:** A simple but effective measure is to enable security banners that clearly warn users when an email originates from outside the company [6].\n",
      "\n",
      "**Layer 2: The Human Firewall**\n",
      "\n",
      "Technical measures alone are insufficient, as no software can stop every phishing attempt [5, 6]. The second, and equally important, step is to address the human factor, which is too often overlooked [6]. A well-trained workforce can be your best defense.\n",
      "\n",
      "*   **Security Awareness Training:** It is essential to train users on email security and how to correctly identify and handle phishing emails [5]. This training must be regular and should educate users on common signs of phishing, such as look-alike domains and unusual requests [5, 14]. Users must learn to be cautious with unexpected attachments or payment requests and understand the importance of reporting any suspicious activity [5, 14].\n",
      "*   **Phishing Simulations:** Training is most effective when paired with practice. Phishing simulators allow you to send realistic, but harmless, phishing emails to your users to gauge their response [5]. These simulations not only help you assess your organization's risk level but also provide a powerful, retention-focused learning experience that allows users to apply their skills in a safe environment [5]. Using a gamified approach with short, engaging training modules and realistic simulations can effectively turn your weakest links into a robust security posture [4].\n",
      "\n",
      "#### **Summary**\n",
      "\n",
      "Phishing is a formidable social engineering threat used by malicious actors to steal credentials and deploy malware. Attacks range from generic, widespread scams to highly targeted and sophisticated spear phishing and clone phishing campaigns. An effective defense requires a comprehensive, two-pronged approach. First, implement strong technical controls, including anti-phishing software and email authentication protocols like DMARC. Second, invest in the human element through continuous security awareness training and practical phishing simulations. By combining technology with an educated and vigilant workforce, an organization can transform its employees from potential victims into a critical line of defense against cyber attacks.\n",
      "\n",
      "---\n",
      "\n",
      "#### **References**\n",
      "\n",
      "[1] Phishing from Université Côte d'Azur - Page {3}\n",
      "[2] Phishing Guidance: Stopping the Attack Cycle at Phase One - Page {3}\n",
      "[3] Phishing Guide 2023 by IT.ie - Page {4}\n",
      "[4] Phishing Guide 2023 by IT.ie - Page {13}\n",
      "[5] Phishing Guide 2023 by IT.ie - Page {13}\n",
      "[6] Phishing Guide 2023 by IT.ie - Page {12}\n",
      "[7] Phishing Guidance: Stopping the Attack Cycle at Phase One - Page {4}\n",
      "[8] Phishing from Université Côte d'Azur - Page {19}\n",
      "[9] Phishing Guide 2023 by IT.ie - Page {13}\n",
      "[10] Phishing Guide 2023 by IT.ie - Page {6}\n",
      "[11] Phishing from Université Côte d'Azur - Page {12, 13}\n",
      "[12] Phishing Guide 2023 by IT.ie - Page {2}\n",
      "[13] Phishing Guide 2023 by IT.ie - Page {6}\n",
      "[14] Phishing Guidance: Stopping the Attack Cycle at Phase One - Page {6}"
     ]
    }
   ],
   "source": [
    "query = \"What is phishing and how can it be prevented in cybersecurity?\"\n",
    "\n",
    "async def stream_result_to_md():\n",
    "    with open(\"phishing_lesson.md\", \"w\") as md_file:\n",
    "        async for chunk in rag_chain.astream({\"input\": query, \n",
    "                                              \"domain\": \"cybersecurity\"}):\n",
    "            if \"answer\" in chunk:\n",
    "                md_file.write(chunk[\"answer\"])\n",
    "                print(chunk[\"answer\"], end=\"\", flush=True)\n",
    "\n",
    "await stream_result_to_md()"
   ]
  }
 ],
 "metadata": {
  "kernelspec": {
   "display_name": "cyberrag",
   "language": "python",
   "name": "python3"
  },
  "language_info": {
   "codemirror_mode": {
    "name": "ipython",
    "version": 3
   },
   "file_extension": ".py",
   "mimetype": "text/x-python",
   "name": "python",
   "nbconvert_exporter": "python",
   "pygments_lexer": "ipython3",
   "version": "3.11.12"
  }
 },
 "nbformat": 4,
 "nbformat_minor": 2
}
